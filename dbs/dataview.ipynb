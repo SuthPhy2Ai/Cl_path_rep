{
 "cells": [
  {
   "cell_type": "code",
   "execution_count": 6,
   "metadata": {},
   "outputs": [],
   "source": [
    "from ase.io import read\n",
    "from ase.db import connect\n",
    "from ase.visualize import view\n",
    "import numpy as np\n",
    "from tqdm import tqdm\n",
    "# Connect to the database\n",
    "db = connect('dielectric_with_gap.db')"
   ]
  },
  {
   "cell_type": "code",
   "execution_count": 7,
   "metadata": {},
   "outputs": [
    {
     "name": "stderr",
     "output_type": "stream",
     "text": [
      "  1%|          | 60/7277 [00:00<00:23, 312.53it/s]"
     ]
    },
    {
     "name": "stderr",
     "output_type": "stream",
     "text": [
      "100%|██████████| 7277/7277 [00:27<00:00, 267.43it/s]\n"
     ]
    }
   ],
   "source": [
    "def schmidt_orthogonalization(vectors):\n",
    "    vectors = vectors.reshape(3, 3)\n",
    "    diagonal_elements = np.diagonal(vectors)\n",
    "    ele = np.mean(diagonal_elements)\n",
    "    return ele\n",
    "\n",
    "clean_db = connect('clean.db')\n",
    "for row in tqdm(db.select(), total=db.count()):\n",
    "    elec_num = schmidt_orthogonalization(row.data.dielectric)\n",
    "    if elec_num < 100:\n",
    "        clean_db.write(row)"
   ]
  },
  {
   "cell_type": "code",
   "execution_count": null,
   "metadata": {},
   "outputs": [],
   "source": []
  },
  {
   "cell_type": "code",
   "execution_count": null,
   "metadata": {},
   "outputs": [],
   "source": []
  },
  {
   "cell_type": "code",
   "execution_count": 23,
   "metadata": {},
   "outputs": [
    {
     "name": "stdout",
     "output_type": "stream",
     "text": [
      "<AtomsRow: formula=Zn2O2, keys=mpid,e_static,bandgap>\n"
     ]
    }
   ],
   "source": [
    "# 搜索里面化学式是ZnO的\n",
    "for row in db.select(formula='Zn2O2'):\n",
    "    print(row)"
   ]
  },
  {
   "cell_type": "code",
   "execution_count": 25,
   "metadata": {},
   "outputs": [
    {
     "name": "stdout",
     "output_type": "stream",
     "text": [
      "<AtomsRow: formula=Zn2O2, keys=mpid,e_static,bandgap>\n"
     ]
    }
   ],
   "source": [
    "for row in db.select(mpid=\"mp-2133\"):\n",
    "    print(row)"
   ]
  },
  {
   "cell_type": "code",
   "execution_count": 26,
   "metadata": {},
   "outputs": [
    {
     "data": {
      "text/plain": [
       "array([[5.39549618, 0.        , 0.        ],\n",
       "       [0.        , 5.3955004 , 0.        ],\n",
       "       [0.        , 0.        , 5.38008688]])"
      ]
     },
     "execution_count": 26,
     "metadata": {},
     "output_type": "execute_result"
    }
   ],
   "source": [
    "row.data.dielectric"
   ]
  },
  {
   "cell_type": "code",
   "execution_count": 29,
   "metadata": {},
   "outputs": [
    {
     "data": {
      "text/plain": [
       "5.390361153333333"
      ]
     },
     "execution_count": 29,
     "metadata": {},
     "output_type": "execute_result"
    }
   ],
   "source": [
    "def metic_score(datas=np.array([ 5.9138,  0.    ,  1.1654,  0.    ,  7.3021,  0.    ,  1.1654, 0.    , 10.921 ])):\n",
    "    \"\"\"\n",
    "    input datas: 1D array -- 9 elements -- this version\n",
    "    only totl elec accepeted\n",
    "    \"\"\"\n",
    "    eigenvalues, eigenvectors = np.linalg.eig(datas.reshape(3,3))\n",
    "    D = np.diag(eigenvalues)\n",
    "    return np.mean(np.diag(D))\n",
    "\n",
    "metic_score(row.data.dielectric)"
   ]
  },
  {
   "cell_type": "code",
   "execution_count": 19,
   "metadata": {},
   "outputs": [
    {
     "data": {
      "text/plain": [
       "'mp-1986'"
      ]
     },
     "execution_count": 19,
     "metadata": {},
     "output_type": "execute_result"
    }
   ],
   "source": [
    "row.mpid"
   ]
  },
  {
   "cell_type": "code",
   "execution_count": null,
   "metadata": {},
   "outputs": [],
   "source": []
  }
 ],
 "metadata": {
  "kernelspec": {
   "display_name": "elec",
   "language": "python",
   "name": "python3"
  },
  "language_info": {
   "codemirror_mode": {
    "name": "ipython",
    "version": 3
   },
   "file_extension": ".py",
   "mimetype": "text/x-python",
   "name": "python",
   "nbconvert_exporter": "python",
   "pygments_lexer": "ipython3",
   "version": "3.9.21"
  }
 },
 "nbformat": 4,
 "nbformat_minor": 2
}
